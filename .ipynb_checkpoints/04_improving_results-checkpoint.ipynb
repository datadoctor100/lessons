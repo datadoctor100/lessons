{
 "cells": [
  {
   "cell_type": "markdown",
   "metadata": {},
   "source": [
    "# Thinkful Data Science Event:\n",
    "## Improving Results-\n",
    "\n",
    "In the previous workshop, we used data from a Portugese banking institution to determine whether or not customers would end up subscribing for a \"Term Subscription\". The results can be found [here](https://github.com/zxs107020/Thinkful/blob/master/03_predicting_subscriptions.ipynb).\n",
    "\n",
    "Today, we will build upon that experiment to see if we cant improve the results of our algorithm. \n",
    "\n",
    "There are many different ways to try and build upon a model in data science. Two of the most popular methods are:\n",
    "1) Feature Selection\n",
    "2) Principal Component Analysis\n",
    "These methods differ slightly in their methodology, but the end goal is the same in each case: reduce the amount of variance and correlation present between variables. \n",
    "\n",
    "Feature selection approaches this issue by trying to remove unnecessary variables based on their importance. \n",
    "\n",
    "On the other hand, principal component analysis attempts to reduce the variance by creating new variables that are a linear combination of the old features. \n",
    "\n",
    "Both of these methodologies can be extremely useful. Neither one always performs better than the other. Their effects on performance can vary between datasets depending on the number and types of features. "
   ]
  },
  {
   "cell_type": "markdown",
   "metadata": {},
   "source": [
    "### Getting Started\n",
    "\n",
    "Please review the materials from previous workshops to refamiliarize yourself with our beginning steps for any data science project. \n",
    "\n",
    "Lets get started."
   ]
  },
  {
   "cell_type": "code",
   "execution_count": 6,
   "metadata": {},
   "outputs": [],
   "source": [
    "# Import the required libraries\n",
    "import ml\n",
    "from sklearn.preprocessing import LabelEncoder\n",
    "from sklearn.ensemble import RandomForestClassifier\n",
    "from sklearn.feature_selection import RFECV\n",
    "import matplotlib.pyplot as plt\n",
    "from sklearn.decomposition import PCA"
   ]
  },
  {
   "cell_type": "code",
   "execution_count": 2,
   "metadata": {},
   "outputs": [],
   "source": [
    "# Define the import variables\n",
    "wd = '/path/to/directory'\n",
    "url = 'https://archive.ics.uci.edu/ml/machine-learning-databases/00222/bank-additional.zip'\n",
    "fn = 'bank-additional.zip'\n",
    "path = 'staging/bank-additional'\n",
    "header = 0\n",
    "sep = ';'\n",
    "target = 'bank-additional-full'"
   ]
  },
  {
   "cell_type": "code",
   "execution_count": 7,
   "metadata": {},
   "outputs": [
    {
     "ename": "AttributeError",
     "evalue": "module 'ml' has no attribute 'dat_imp'",
     "output_type": "error",
     "traceback": [
      "\u001b[0;31m---------------------------------------------------------------------------\u001b[0m",
      "\u001b[0;31mAttributeError\u001b[0m                            Traceback (most recent call last)",
      "\u001b[0;32m<ipython-input-7-dbc07e438a1b>\u001b[0m in \u001b[0;36m<module>\u001b[0;34m()\u001b[0m\n\u001b[1;32m      1\u001b[0m \u001b[0;31m# Load the data using my custom ml package\u001b[0m\u001b[0;34m\u001b[0m\u001b[0;34m\u001b[0m\u001b[0m\n\u001b[0;32m----> 2\u001b[0;31m \u001b[0mdata\u001b[0m \u001b[0;34m=\u001b[0m \u001b[0mml\u001b[0m\u001b[0;34m.\u001b[0m\u001b[0mdat_imp\u001b[0m\u001b[0;34m(\u001b[0m\u001b[0mwd\u001b[0m\u001b[0;34m,\u001b[0m \u001b[0murl\u001b[0m\u001b[0;34m,\u001b[0m \u001b[0mfn\u001b[0m\u001b[0;34m,\u001b[0m \u001b[0mpath\u001b[0m\u001b[0;34m,\u001b[0m \u001b[0mheader\u001b[0m\u001b[0;34m,\u001b[0m \u001b[0msep\u001b[0m\u001b[0;34m,\u001b[0m \u001b[0mtarget\u001b[0m\u001b[0;34m)\u001b[0m\u001b[0;34m\u001b[0m\u001b[0m\n\u001b[0m",
      "\u001b[0;31mAttributeError\u001b[0m: module 'ml' has no attribute 'dat_imp'"
     ]
    }
   ],
   "source": [
    "# Load the data using my custom ml package\n",
    "data = ml.dat_imp(wd, url, fn, path, header, sep, target)"
   ]
  },
  {
   "cell_type": "code",
   "execution_count": null,
   "metadata": {},
   "outputs": [],
   "source": []
  },
  {
   "cell_type": "code",
   "execution_count": null,
   "metadata": {},
   "outputs": [],
   "source": []
  }
 ],
 "metadata": {
  "kernelspec": {
   "display_name": "Python 3",
   "language": "python",
   "name": "python3"
  },
  "language_info": {
   "codemirror_mode": {
    "name": "ipython",
    "version": 3
   },
   "file_extension": ".py",
   "mimetype": "text/x-python",
   "name": "python",
   "nbconvert_exporter": "python",
   "pygments_lexer": "ipython3",
   "version": "3.6.4"
  }
 },
 "nbformat": 4,
 "nbformat_minor": 2
}
