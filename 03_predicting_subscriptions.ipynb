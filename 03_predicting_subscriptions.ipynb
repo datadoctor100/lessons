{
 "cells": [
  {
   "cell_type": "markdown",
   "metadata": {},
   "source": [
    "# Thinkful Data Science Event:\n",
    "## Predicting Bank Term Subscriptions-\n",
    "\n",
    "As data scientists, one thing that we are always looking for is fresh, new datasets to analyze.\n",
    "\n",
    "One excellent source of these is the [UCI Machine Learning Repository](http://archive.ics.uci.edu/ml/index.php).\n",
    "\n",
    "In particular, the website hosts a dataset of information gathered by a Portugese banking institution on its customers. The purpose of collecting this data was to aide in a marketing campaign to increase \"Term Subscriptions\" for the bank. \n",
    "\n",
    "In this workshop, we are going to see if we cant help the bank by using some predictive analytics to decide whether or not customers will sign-up for the aforementioned service. \n",
    "\n",
    "To do this, we will rely on a logistic regression model. These models are useful within the following context:\n",
    "* The dependent variable is binary (0 or 1)\n",
    "* The independent variables are independent of one another\n",
    "* The data has a large sample size\n",
    "\n",
    "Once we have explored the data, we will build a model. We will build this model with a custom package designed by the host in order to streamline the process- this is the `ml` package. \n",
    "\n",
    "In order to use the `ml` package, all we have to do is define our working directory in python and then copy the package script into our folder. The script can be downloaded from [here](https://github.com/zxs107020/Projects/blob/master/ml_package/ml.py).\n",
    "\n",
    "Then we will take a look at our results and go over some useful performance measures that are uses to assess the validity of machine learning outputs."
   ]
  },
  {
   "cell_type": "markdown",
   "metadata": {},
   "source": [
    "## Getting Started\n",
    "\n",
    "To begin with, we will download our data directly from the internet and place it in a \"staging\" directory. Then we will extract our desired information and take a look at it. After doing this, we will build a model. Next, we will assess our model by taking a look at some performance metrics."
   ]
  },
  {
   "cell_type": "code",
   "execution_count": 21,
   "metadata": {},
   "outputs": [],
   "source": [
    "# Import the required libraries\n",
    "import os\n",
    "import requests\n",
    "import zipfile\n",
    "import glob\n",
    "import pandas as pd\n",
    "from sklearn.preprocessing import LabelEncoder\n",
    "import matplotlib.pyplot as plt \n",
    "import seaborn as sns\n",
    "sns.set(style=\"white\")\n",
    "sns.set(style=\"whitegrid\", color_codes=True)"
   ]
  },
  {
   "cell_type": "code",
   "execution_count": null,
   "metadata": {},
   "outputs": [],
   "source": [
    "# Check the working directory\n",
    "os.getcwd()\n",
    "\n",
    "# Set path to new directory\n",
    "# path = 'path/to/files'\n",
    "# os.chdir(path)"
   ]
  },
  {
   "cell_type": "code",
   "execution_count": 6,
   "metadata": {},
   "outputs": [],
   "source": [
    "# Import the custom package\n",
    "import ml"
   ]
  },
  {
   "cell_type": "markdown",
   "metadata": {},
   "source": [
    "### Loading the Data\n",
    "\n",
    "There are many ways to load data into python. It can be downloaded into a file and loaded into our program, or we can use our program to automatically extract the data from a url. Personally, I prefer the second method- which is what we will use here"
   ]
  },
  {
   "cell_type": "code",
   "execution_count": 7,
   "metadata": {},
   "outputs": [],
   "source": [
    "# File location\n",
    "url = 'https://archive.ics.uci.edu/ml/machine-learning-databases/00222/bank-additional.zip'\n",
    "\n",
    "r = requests.get(url)"
   ]
  },
  {
   "cell_type": "code",
   "execution_count": 10,
   "metadata": {},
   "outputs": [],
   "source": [
    "# Create the staging directory (uncomment the following lines)\n",
    "# staging_dir = \"staging\"\n",
    "# os.mkdir(staging_dir)"
   ]
  },
  {
   "cell_type": "code",
   "execution_count": 11,
   "metadata": {},
   "outputs": [],
   "source": [
    "# Machine independent path to download files\n",
    "zip_file = os.path.join(staging_dir, 'bank-additional.zip')"
   ]
  },
  {
   "cell_type": "code",
   "execution_count": 12,
   "metadata": {},
   "outputs": [],
   "source": [
    "# Write the file to the computer\n",
    "zf = open(zip_file,\"wb\")\n",
    "zf.write(r.content)\n",
    "zf.close()\n",
    "\n",
    "# Unzip the files\n",
    "z = zipfile.ZipFile(zip_file,\"r\")\n",
    "z.extractall(staging_dir)\n",
    "z.close()\n",
    "\n",
    "# Extract the .csv's\n",
    "files = glob.glob(os.path.join(\"staging/bank-additional\" + \"/*.csv\"))"
   ]
  },
  {
   "cell_type": "code",
   "execution_count": 13,
   "metadata": {},
   "outputs": [],
   "source": [
    "# Create an empty dictionary to hold the dataframes from csvs\n",
    "dict_ = {}\n",
    "\n",
    "# Write the files into the dictionary\n",
    "for file in files:\n",
    "    fname = os.path.basename(file)\n",
    "    fname = fname.replace('.csv', '')\n",
    "    dict_[fname] = pd.read_csv(file, header = 0, sep = ';')\n",
    "    \n",
    "# Extract the relevant dataframe\n",
    "data = dict_['bank-additional-full']"
   ]
  },
  {
   "cell_type": "markdown",
   "metadata": {},
   "source": [
    "The file is contained as a `.zip` folder on the UCI website. However, we only really need one of the files- this is the one that we have extracted into `data`. (For a more complete description of the files and data, visit the UCI website)\n",
    "\n",
    "Before we go any further, we will need to make a few inquiries into the validity of the data:"
   ]
  },
  {
   "cell_type": "code",
   "execution_count": 14,
   "metadata": {},
   "outputs": [
    {
     "data": {
      "text/plain": [
       "age               0\n",
       "job               0\n",
       "marital           0\n",
       "education         0\n",
       "default           0\n",
       "housing           0\n",
       "loan              0\n",
       "contact           0\n",
       "month             0\n",
       "day_of_week       0\n",
       "duration          0\n",
       "campaign          0\n",
       "pdays             0\n",
       "previous          0\n",
       "poutcome          0\n",
       "emp.var.rate      0\n",
       "cons.price.idx    0\n",
       "cons.conf.idx     0\n",
       "euribor3m         0\n",
       "nr.employed       0\n",
       "y                 0\n",
       "dtype: int64"
      ]
     },
     "execution_count": 14,
     "metadata": {},
     "output_type": "execute_result"
    }
   ],
   "source": [
    "# Check for missing values\n",
    "data.isnull().sum()"
   ]
  },
  {
   "cell_type": "code",
   "execution_count": 15,
   "metadata": {},
   "outputs": [
    {
     "data": {
      "text/plain": [
       "age                 int64\n",
       "job                object\n",
       "marital            object\n",
       "education          object\n",
       "default            object\n",
       "housing            object\n",
       "loan               object\n",
       "contact            object\n",
       "month              object\n",
       "day_of_week        object\n",
       "duration            int64\n",
       "campaign            int64\n",
       "pdays               int64\n",
       "previous            int64\n",
       "poutcome           object\n",
       "emp.var.rate      float64\n",
       "cons.price.idx    float64\n",
       "cons.conf.idx     float64\n",
       "euribor3m         float64\n",
       "nr.employed       float64\n",
       "y                  object\n",
       "dtype: object"
      ]
     },
     "execution_count": 15,
     "metadata": {},
     "output_type": "execute_result"
    }
   ],
   "source": [
    "# Check the column types\n",
    "data.dtypes"
   ]
  },
  {
   "cell_type": "markdown",
   "metadata": {},
   "source": [
    "Luckily, we dont have any missing values. There is still a problem though. As we can see, there are multiple `object` variables. Unfortunately, machine learning in python is not equipped to handle \"factors\". We will have to convert these columns into numeric values so they can be interpreted by our algorithm."
   ]
  },
  {
   "cell_type": "code",
   "execution_count": 17,
   "metadata": {},
   "outputs": [],
   "source": [
    "# Select object columns\n",
    "cols = data.columns[data.dtypes.eq('object')]"
   ]
  },
  {
   "cell_type": "code",
   "execution_count": 18,
   "metadata": {},
   "outputs": [],
   "source": [
    "# Convert to categories\n",
    "for col in cols:\n",
    "    data[col] = data[col].astype('category')"
   ]
  },
  {
   "cell_type": "code",
   "execution_count": 19,
   "metadata": {},
   "outputs": [],
   "source": [
    "# Initialize label encoder\n",
    "le = LabelEncoder()"
   ]
  },
  {
   "cell_type": "code",
   "execution_count": 20,
   "metadata": {},
   "outputs": [],
   "source": [
    "# Encode categories numerically\n",
    "for col in cols:\n",
    "    data[col] = le.fit_transform(data[col])"
   ]
  },
  {
   "cell_type": "markdown",
   "metadata": {},
   "source": [
    "Using `sklearn.LabelEncoder` we have now converted all of our string variable categories into numeric representations. Lets take a deeper look into the data's structure through some (hopefully) insightful visualization."
   ]
  },
  {
   "cell_type": "markdown",
   "metadata": {},
   "source": [
    "### Visualization"
   ]
  },
  {
   "cell_type": "code",
   "execution_count": 25,
   "metadata": {},
   "outputs": [
    {
     "data": {
      "image/png": "[encoded data removed]",
      "text/plain": [
       "<matplotlib.figure.Figure at 0x106517a20>"
      ]
     },
     "metadata": {},
     "output_type": "display_data"
    }
   ],
   "source": [
    "# Graph the outcome\n",
    "sns.countplot(x = 'y', data = data, palette = 'hls')\n",
    "plt.show()"
   ]
  },
  {
   "cell_type": "markdown",
   "metadata": {},
   "source": [
    "One thing that stands out from this bar graph is that it would appear as if our data suffers from a slight \"class-imbalance\". One of the categories (no to a subscription) is unevenly represented in the sample population. This can lead to difficulty for our algorithm. However, we will keep this in mind but leave it alone for now."
   ]
  },
  {
   "cell_type": "markdown",
   "metadata": {},
   "source": [
    "Lets take a look at the distribution of subscribers based on job title:"
   ]
  },
  {
   "cell_type": "code",
   "execution_count": 24,
   "metadata": {},
   "outputs": [
    {
     "data": {
      "text/plain": [
       "Text(0,0.5,'Frequency of Subscription')"
      ]
     },
     "execution_count": 24,
     "metadata": {},
     "output_type": "execute_result"
    },
    {
     "data": {
      "image/png": "[encoded data removed]",
      "text/plain": [
       "<matplotlib.figure.Figure at 0x1a0e2e4390>"
      ]
     },
     "metadata": {},
     "output_type": "display_data"
    }
   ],
   "source": [
    "%matplotlib inline\n",
    "pd.crosstab(data.job,data.y).plot(kind='bar')\n",
    "plt.title('Term Subscriptions by Job Category')\n",
    "plt.xlabel('Job')\n",
    "plt.ylabel('Frequency of Subscription')"
   ]
  },
  {
   "cell_type": "markdown",
   "metadata": {},
   "source": [
    "This doesnt really tell us much, because we already encoded our variable into numbers. Even still, we can see that the categories 0 and 1 are more prone to subscribing for the term subscription than others groups. \n",
    "\n",
    "In any case, we could continue exploring this data all day long. Indeed, analytics is another important component of data in the business world that revolves around visualizing and story-telling.\n",
    "\n",
    "Lets get to the fun stuff: building models"
   ]
  },
  {
   "cell_type": "markdown",
   "metadata": {},
   "source": [
    "### Machine Learning\n",
    "\n",
    "Machine learning is perhaps the most important component of a data scientist's job. It involves building predictive models to develop insight from data. \n",
    "\n",
    "In order to do this, we have to not only build a model, but also train it. Then we can make predictions on a labelled set of observations in order to judge our models performance. So we will have to split the data into different sets for these purposes. I have developed my own custom module for this purpose, which we imported and the beginning of our script. This is the `ml` package. For further reference on how to use this library, please refer to this [article](https://github.com/zxs107020/Projects/blob/master/ml_package/ml_package_explanation.ipynb) that I have written as explanation."
   ]
  },
  {
   "cell_type": "code",
   "execution_count": 26,
   "metadata": {},
   "outputs": [
    {
     "name": "stderr",
     "output_type": "stream",
     "text": [
      "/anaconda3/lib/python3.6/site-packages/sklearn/cross_validation.py:41: DeprecationWarning: This module was deprecated in version 0.18 in favor of the model_selection module into which all the refactored classes and functions are moved. Also note that the interface of the new CV iterators are different from that of this module. This module will be removed in 0.20.\n",
      "  \"This module will be removed in 0.20.\", DeprecationWarning)\n"
     ]
    }
   ],
   "source": [
    "# Split the data into training, validation, and testing sets using `ml`\n",
    "x_train, x_val, x_test, y_train, y_val, y_test = ml.separate(data, 'y', .3)"
   ]
  },
  {
   "cell_type": "markdown",
   "metadata": {},
   "source": [
    "For today's workshop we are going to use a logistic regression. Using our `ml` package, we can either define the model separately or input is as a string directly into our function. \n",
    "\n",
    "Today, I am going to define this information in advance."
   ]
  },
  {
   "cell_type": "code",
   "execution_count": 27,
   "metadata": {},
   "outputs": [],
   "source": [
    "# Define the library and function\n",
    "lib = 'from sklearn.linear_model import LogisticRegression'\n",
    "func = 'LogisticRegression()'"
   ]
  },
  {
   "cell_type": "markdown",
   "metadata": {},
   "source": [
    "Now we can call the function:"
   ]
  },
  {
   "cell_type": "code",
   "execution_count": 28,
   "metadata": {},
   "outputs": [],
   "source": [
    "# Perform the logistic regression using `ml`\n",
    "preds, conf_mat, class_rep, acc = ml.machine_learning(lib, x_train, y_train, x_val, y_val, func)"
   ]
  },
  {
   "cell_type": "markdown",
   "metadata": {},
   "source": [
    "And thats all she wrote, as the saying goes. Our model has been built and deployed to make predictions on our validation set. The validation results are the ones that we would use in the event that we were using multiple models and needed to compare their performance. Then we would select one and make a final set of predictions on the test set.\n",
    "\n",
    "### Results\n",
    "\n",
    "There are many different ways to judge a models performance. Perhaps the simplest of these is accuracy, which needs no explanation. Then there are more complicated measures such as \"f1\" which is the harmonic mean of the recall and precision. We will not bother ourselves with these definitions for now, but lets go ahead and take a look at the results of our model."
   ]
  },
  {
   "cell_type": "code",
   "execution_count": 29,
   "metadata": {},
   "outputs": [
    {
     "name": "stdout",
     "output_type": "stream",
     "text": [
      "Confusion Matrix for the Logistic Regression Model \n",
      " [[5378  143]\n",
      " [ 400  257]] \n",
      "\n"
     ]
    }
   ],
   "source": [
    "print('Confusion Matrix for the Logistic Regression Model', '\\n', conf_mat, '\\n')"
   ]
  },
  {
   "cell_type": "markdown",
   "metadata": {},
   "source": [
    "This is basically a table of the predictions of our model vs. the actual labels. The diagonals represent correct classifications, so from this we can see that 543 examples were misclassified in total. Not bad."
   ]
  },
  {
   "cell_type": "code",
   "execution_count": 30,
   "metadata": {},
   "outputs": [
    {
     "name": "stdout",
     "output_type": "stream",
     "text": [
      "Accuracy for the Logistic Regression Model 0.9121074781482681 \n",
      "\n"
     ]
    }
   ],
   "source": [
    "print('Accuracy for the Logistic Regression Model', acc, '\\n')"
   ]
  },
  {
   "cell_type": "markdown",
   "metadata": {},
   "source": [
    "91% accuracy is pretty good, especially considering the fact that we were worried about our model performance suffering from the class imbalance issue. \n",
    "\n",
    "Finally, we can also take a look at the complicated measures for the sake of being comprehensive."
   ]
  },
  {
   "cell_type": "code",
   "execution_count": 31,
   "metadata": {},
   "outputs": [
    {
     "name": "stdout",
     "output_type": "stream",
     "text": [
      "Summary statistics for Logistic Regression Model \n",
      "              precision    recall  f1-score   support\n",
      "\n",
      "          0       0.93      0.97      0.95      5521\n",
      "          1       0.64      0.39      0.49       657\n",
      "\n",
      "avg / total       0.90      0.91      0.90      6178\n",
      " \n",
      "\n"
     ]
    }
   ],
   "source": [
    "print('Summary statistics for Logistic Regression Model', '\\n', class_rep, '\\n')"
   ]
  },
  {
   "cell_type": "markdown",
   "metadata": {},
   "source": [
    "Lastly, we can also visualize these results using an ROC curve. This is a graph depicting the false positive rate against the true positive rate, in terms of classification. The main point of this graph is that the amount of area underneath the curve is representative of our model fit. The higher the AUC, the better the model.\n",
    "\n",
    "To generate our ROC curve, we will again use the `ml` package."
   ]
  },
  {
   "cell_type": "code",
   "execution_count": 32,
   "metadata": {},
   "outputs": [
    {
     "data": {
      "image/png": "[encoded data removed]",
      "text/plain": [
       "<matplotlib.figure.Figure at 0x1a0e2dfc18>"
      ]
     },
     "metadata": {},
     "output_type": "display_data"
    }
   ],
   "source": [
    "# Visualize the results with an ROC curve\n",
    "ml.visualize(y_val, preds)"
   ]
  },
  {
   "cell_type": "markdown",
   "metadata": {},
   "source": [
    "## Conclusion\n",
    "\n",
    "Data Science is as easy as that. Now of course, in the real world- there are many other considerations that we have to factor in before building a model. These include concepts such as feature engineering and others to develop better insights before feeding the data into a machine learning algorithm. Still, the overall procedure is relatively similar.\n",
    "\n",
    "In the future, we can try and build on the model that we have created today by using some of these techniques. In addition to feature engineering, we could also try some dimensionality reduction techniques such as PCA- among others. \n",
    "\n",
    "Meanwhile, feel free to try and improve on this model on your own to see if you cant increase the accuracy or AUC value of the ROC. \n",
    "\n",
    "Good luck!"
   ]
  }
 ],
 "metadata": {
  "kernelspec": {
   "display_name": "Python 3",
   "language": "python",
   "name": "python3"
  },
  "language_info": {
   "codemirror_mode": {
    "name": "ipython",
    "version": 3
   },
   "file_extension": ".py",
   "mimetype": "text/x-python",
   "name": "python",
   "nbconvert_exporter": "python",
   "pygments_lexer": "ipython3",
   "version": "3.6.4"
  }
 },
 "nbformat": 4,
 "nbformat_minor": 2
}
