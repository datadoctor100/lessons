{
 "cells": [
  {
   "cell_type": "markdown",
   "metadata": {},
   "source": [
    "# Using Python for Data Science:\n",
    "\n",
    "## Introduction-\n",
    "\n",
    "Data science is the hot new field in the information technology industry. Its popularity has been steadily increasing over the past few years. This increase in the sector has been caused by the information explosion that has taken place over the past few years. \n",
    "\n",
    "In fact, according to Forbes Magazine:\n",
    "\n",
    "> * Experts are predicting a 4,300 percent increase in annual data production by 2020.\n",
    "> * On average, companies use only a fraction of the data they collect and store."
   ]
  },
  {
   "cell_type": "markdown",
   "metadata": {},
   "source": [
    "The information explosion has been accompanied by a need for astute business analysts who are also equipped to program and build models- data scientists. Traditionally, these individuals preferred to use the R programming language to do their work. However, R is quickly being replaced by Python in this space.  \n",
    "\n",
    "We can easily visualize this growing trend of using Python for data science. For example, the popular website \"KDnuggets.com\" posted a graph that shows pythons growing usage by searching the key words used in job postings:\n",
    "\n",
    "![KDNuggets Python Graph](https://www.ibm.com/developerworks/community/blogs/jfp/resource/BLOGS_UPLOADED_IMAGES/trends0.png)."
   ]
  },
  {
   "cell_type": "markdown",
   "metadata": {},
   "source": [
    "From this graph, it is obvious that anybody looking for a hot new job in this growing field should definitely become experienced with Python in order to further their career prospects and increase their overall earning potential. \n",
    "\n",
    "Lets get to it then."
   ]
  },
  {
   "cell_type": "markdown",
   "metadata": {},
   "source": [
    "## Getting Started-\n",
    "\n",
    "In this article we will focus on the use of Python specifically for the purpose of carrying out data science tasks such as data cleansing and building machine learning models. As such, we will skip over the more general programming concepts and reference them only when needed to develop our specific tasks. \n",
    "\n",
    "The main components of any data science project are:\n",
    "\n",
    "**1) Import the Required Libraries**\n",
    "\n",
    "**2) Load and Manipulate the Data**\n",
    "\n",
    "**3) Build Models**\n",
    "\n",
    "**4) Compare the Results**\n",
    "\n",
    "These are the components that we will focus on in this workshop. "
   ]
  },
  {
   "cell_type": "markdown",
   "metadata": {},
   "source": [
    "### Import the Required Libraries:\n",
    "\n",
    "One of the things that makes python so powerful is that it is a free, open-source language. As a result, many talented people have created prepackaged bundles of code that can be used in our projects so that we dont have to start from scratch. This code is usually stored in the form of packages or libraries, which can easily be imported to our computer using a few simple steps."
   ]
  },
  {
   "cell_type": "code",
   "execution_count": 1,
   "metadata": {},
   "outputs": [],
   "source": [
    "# Import the required libraries\n",
    "import os\n",
    "import csv\n",
    "import pandas as pd"
   ]
  },
  {
   "cell_type": "markdown",
   "metadata": {},
   "source": [
    "We have just imported some libraries into python that we can use to read our data and set-up our workspace.\n",
    "\n",
    "* `os` is a library that provides many functions for setting up a machine-independent workspace in python\n",
    "* `pandas` is a popular library used for reading and manipulating data stored in the form of \"data frames\""
   ]
  },
  {
   "cell_type": "markdown",
   "metadata": {},
   "source": [
    "Before we go further, lets set-up our workspace by defining the working directory."
   ]
  },
  {
   "cell_type": "code",
   "execution_count": 2,
   "metadata": {},
   "outputs": [
    {
     "name": "stdout",
     "output_type": "stream",
     "text": [
      "/Users/zansadiq/Documents/Code/github/Thinkful\n"
     ]
    }
   ],
   "source": [
    "# Find the working directory\n",
    "print(os.getcwd())"
   ]
  },
  {
   "cell_type": "code",
   "execution_count": 3,
   "metadata": {},
   "outputs": [],
   "source": [
    "# Define a new directory\n",
    "path = 'path/to/files'\n",
    "\n",
    "# Change the working directory\n",
    "# os.chdir(path)"
   ]
  },
  {
   "cell_type": "markdown",
   "metadata": {},
   "source": [
    "### Load and Manipulate the Data:\n",
    "\n",
    "It goes without saying that in order to carry out a data science task, we must start with some data. This can come in a variety of different formats such as `.csv` or `.xlsx`, `.json`, etc. \n",
    "\n",
    "Data can exist locally on our machine, or it may exist somewhere on the internet and need to be downloaded before it can be read. For today's tutorial, we will go ahead and use the famous \"Titanic\" dataset from the Kaggle website to play around with. The files can be downloaded [*here*](https://www.kaggle.com/c/titanic/data) and they are already split into a training and testing set for us, which is convenient. "
   ]
  },
  {
   "cell_type": "code",
   "execution_count": null,
   "metadata": {},
   "outputs": [],
   "source": [
    "# Load the data from a local file using the csv module\n",
    "with open('file.csv') as csvDataFile:\n",
    "    csvReader = csv.reader(csvDataFile)\n",
    "    for row in csvReader:\n",
    "        print(row)\n"
   ]
  }
 ],
 "metadata": {
  "kernelspec": {
   "display_name": "Python 3",
   "language": "python",
   "name": "python3"
  },
  "language_info": {
   "codemirror_mode": {
    "name": "ipython",
    "version": 3
   },
   "file_extension": ".py",
   "mimetype": "text/x-python",
   "name": "python",
   "nbconvert_exporter": "python",
   "pygments_lexer": "ipython3",
   "version": "3.6.4"
  }
 },
 "nbformat": 4,
 "nbformat_minor": 2
}
