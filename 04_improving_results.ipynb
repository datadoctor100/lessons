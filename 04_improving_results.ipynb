{
 "cells": [
  {
   "cell_type": "markdown",
   "metadata": {},
   "source": [
    "# Thinkful Data Science Event:\n",
    "## Improving Results-\n",
    "\n",
    "In the previous workshop, we used data from a Portugese banking institution to determine whether or not customers would end up subscribing for a \"Term Subscription\". The results can be found [here](https://github.com/zxs107020/Thinkful/blob/master/03_predicting_subscriptions.ipynb).\n",
    "\n",
    "Today, we will build upon that experiment to see if we cant improve the results of our algorithm. \n",
    "\n",
    "There are many different ways to try and build upon a model in data science. Two of the most popular methods are:\n",
    "\n",
    "**1) Feature Selection**\n",
    "\n",
    "**2) Principal Component Analysis**\n",
    "\n",
    "These methods differ slightly in their methodology, but the end goal is the same in each case: reduce the amount of variance and correlation present between variables. \n",
    "\n",
    "Feature selection approaches this issue by trying to remove unnecessary variables based on their importance. \n",
    "\n",
    "On the other hand, principal component analysis attempts to reduce the variance by creating new variables that are a linear combination of the old features. \n",
    "\n",
    "Both of these methodologies can be extremely useful. Neither one always performs better than the other. Their effects on performance can vary between datasets depending on the number and types of features. "
   ]
  },
  {
   "cell_type": "markdown",
   "metadata": {},
   "source": [
    "### Getting Started\n",
    "\n",
    "Please review the materials from previous workshops to refamiliarize yourself with our beginning steps for any data science project. \n",
    "\n",
    "Lets get started."
   ]
  },
  {
   "cell_type": "code",
   "execution_count": 1,
   "metadata": {},
   "outputs": [],
   "source": [
    "# Import the required libraries\n",
    "import ml\n",
    "from sklearn.preprocessing import LabelEncoder\n",
    "from sklearn.ensemble import RandomForestClassifier\n",
    "from sklearn.feature_selection import RFECV\n",
    "import matplotlib.pyplot as plt\n",
    "from sklearn.decomposition import PCA"
   ]
  },
  {
   "cell_type": "code",
   "execution_count": 2,
   "metadata": {},
   "outputs": [],
   "source": [
    "# Define the variables\n",
    "wd = '/Users/zansadiq/Documents/Code/local/predict_subscriptions'\n",
    "url = 'https://archive.ics.uci.edu/ml/machine-learning-databases/00222/bank-additional.zip'\n",
    "fn = 'bank-additional.zip'\n",
    "path = 'staging/bank-additional'\n",
    "header = 0\n",
    "sep = ';'\n",
    "target = 'bank-additional-full'"
   ]
  },
  {
   "cell_type": "code",
   "execution_count": 3,
   "metadata": {},
   "outputs": [],
   "source": [
    "# Load the data\n",
    "data = ml.dat_imp(wd, url, fn, path, header, sep, target)"
   ]
  },
  {
   "cell_type": "code",
   "execution_count": 4,
   "metadata": {},
   "outputs": [],
   "source": [
    "# Select object columns\n",
    "cols = data.columns[data.dtypes.eq('object')]\n",
    "\n",
    "# Convert to categories\n",
    "for col in cols:\n",
    "    data[col] = data[col].astype('category')\n",
    "    \n",
    "# Initialize label encoder\n",
    "le = LabelEncoder()\n",
    "\n",
    "# Encode categories numerically\n",
    "for col in cols:\n",
    "    data[col] = le.fit_transform(data[col]) "
   ]
  },
  {
   "cell_type": "code",
   "execution_count": 5,
   "metadata": {},
   "outputs": [
    {
     "name": "stderr",
     "output_type": "stream",
     "text": [
      "/anaconda3/lib/python3.6/site-packages/sklearn/cross_validation.py:41: DeprecationWarning: This module was deprecated in version 0.18 in favor of the model_selection module into which all the refactored classes and functions are moved. Also note that the interface of the new CV iterators are different from that of this module. This module will be removed in 0.20.\n",
      "  \"This module will be removed in 0.20.\", DeprecationWarning)\n"
     ]
    }
   ],
   "source": [
    "# Split the data into training, validation, and testing sets using `ml`\n",
    "x_train, x_val, x_test, y_train, y_val, y_test = ml.separate(data, 'y', .3)"
   ]
  },
  {
   "cell_type": "markdown",
   "metadata": {},
   "source": [
    "### Recursive Feature Selection (RFE)\n",
    "\n",
    "RFE is a popular and powerful method in data science for reducing the dimensionality of information within a project. The theory behind process is to selectively remove features and build models using the remaining attributes. At each step, the model accuracy is recorded. RFE is then able to work out the combination of attributes that have the highest prediction rate for the data, and it returns this list of features as its output."
   ]
  },
  {
   "cell_type": "code",
   "execution_count": 6,
   "metadata": {},
   "outputs": [],
   "source": [
    "# Initialize the model\n",
    "clf = RandomForestClassifier()"
   ]
  },
  {
   "cell_type": "code",
   "execution_count": 7,
   "metadata": {},
   "outputs": [],
   "source": [
    "# Instantiate\n",
    "rfe = RFECV(estimator = clf, step = 1, cv = 5, scoring = 'accuracy')"
   ]
  },
  {
   "cell_type": "code",
   "execution_count": 8,
   "metadata": {},
   "outputs": [],
   "source": [
    "# Model the data\n",
    "rfecv = rfe.fit(x_train, y_train)"
   ]
  },
  {
   "cell_type": "code",
   "execution_count": 9,
   "metadata": {},
   "outputs": [
    {
     "name": "stdout",
     "output_type": "stream",
     "text": [
      "Optimal number of features : 19\n"
     ]
    }
   ],
   "source": [
    "# Results\n",
    "print('Optimal number of features :', rfecv.n_features_)"
   ]
  },
  {
   "cell_type": "code",
   "execution_count": 10,
   "metadata": {},
   "outputs": [
    {
     "name": "stdout",
     "output_type": "stream",
     "text": [
      "Best features : Index(['age', 'job', 'marital', 'education', 'housing', 'loan', 'contact',\n",
      "       'month', 'day_of_week', 'duration', 'campaign', 'pdays', 'previous',\n",
      "       'poutcome', 'emp.var.rate', 'cons.price.idx', 'cons.conf.idx',\n",
      "       'euribor3m', 'nr.employed'],\n",
      "      dtype='object')\n"
     ]
    }
   ],
   "source": [
    "print('Best features :', x_train.columns[rfecv.support_])"
   ]
  },
  {
   "cell_type": "code",
   "execution_count": 11,
   "metadata": {},
   "outputs": [
    {
     "data": {
      "image/png": "[encoded data removed]",
      "text/plain": [
       "<matplotlib.figure.Figure at 0x10d086160>"
      ]
     },
     "metadata": {},
     "output_type": "display_data"
    }
   ],
   "source": [
    "# Plot number of features VS. cross-validation scores\n",
    "plt.figure()\n",
    "plt.xlabel(\"Number of features selected\")\n",
    "plt.ylabel(\"Cross validation score of number of selected features\")\n",
    "plt.plot(range(1, len(rfecv.grid_scores_) + 1), rfecv.grid_scores_)\n",
    "plt.show()"
   ]
  },
  {
   "cell_type": "markdown",
   "metadata": {},
   "source": [
    "Now we have two items to consider:\n",
    "\n",
    "* The optimal number of features\n",
    "* A list of which features are most important\n",
    "\n",
    "Using this information, we can eliminate unnecessary variables from out data frame."
   ]
  },
  {
   "cell_type": "code",
   "execution_count": 12,
   "metadata": {},
   "outputs": [],
   "source": [
    "# Eliminate the unnecessary variables\n",
    "keep = x_train.columns[rfecv.support_]\n",
    "x_train = x_train[keep]\n",
    "x_val = x_val[keep]\n",
    "x_test = x_test[keep]"
   ]
  },
  {
   "cell_type": "markdown",
   "metadata": {},
   "source": [
    "Now that everything is prepared, lets go ahead and rerun our logistic regression model from the last workshop."
   ]
  },
  {
   "cell_type": "code",
   "execution_count": 13,
   "metadata": {},
   "outputs": [],
   "source": [
    "# Test the performance\n",
    "\n",
    "# Define the library and function\n",
    "lib = 'from sklearn.linear_model import LogisticRegression'\n",
    "func = 'LogisticRegression()'\n",
    "\n",
    "# Perform the logistic regression using `ml`\n",
    "preds, conf_mat, class_rep, acc = ml.machine_learning(lib, x_train, y_train, x_val, y_val, func)"
   ]
  },
  {
   "cell_type": "code",
   "execution_count": 14,
   "metadata": {},
   "outputs": [
    {
     "name": "stdout",
     "output_type": "stream",
     "text": [
      "Confusion Matrix for the Logistic Regression Model \n",
      " [[5394  127]\n",
      " [ 406  251]] \n",
      "\n"
     ]
    }
   ],
   "source": [
    "# Check the results\n",
    "print('Confusion Matrix for the Logistic Regression Model', '\\n', conf_mat, '\\n')"
   ]
  },
  {
   "cell_type": "code",
   "execution_count": 15,
   "metadata": {},
   "outputs": [
    {
     "name": "stdout",
     "output_type": "stream",
     "text": [
      "Accuracy for the Logistic Regression Model 0.9137261249595339 \n",
      "\n"
     ]
    }
   ],
   "source": [
    "print('Accuracy for the Logistic Regression Model', acc, '\\n')"
   ]
  },
  {
   "cell_type": "code",
   "execution_count": 16,
   "metadata": {},
   "outputs": [
    {
     "name": "stdout",
     "output_type": "stream",
     "text": [
      "Summary statistics for Logistic Regression Model \n",
      "              precision    recall  f1-score   support\n",
      "\n",
      "          0       0.93      0.98      0.95      5521\n",
      "          1       0.66      0.38      0.49       657\n",
      "\n",
      "avg / total       0.90      0.91      0.90      6178\n",
      " \n",
      "\n"
     ]
    }
   ],
   "source": [
    "print('Summary statistics for Logistic Regression Model', '\\n', class_rep, '\\n')"
   ]
  },
  {
   "cell_type": "markdown",
   "metadata": {},
   "source": [
    "Lets compare these results to our model from last time, which can be found [here](https://github.com/zxs107020/Thinkful/blob/master/03_predicting_subscriptions.ipynb).\n",
    "\n",
    "First of all, our number of misclassified examples is 533. This is marginally better than the 543 from the unaltered dataset. \n",
    "\n",
    "The accuracy is the same though. \n",
    "\n",
    "Lets take a look at the ROC:"
   ]
  },
  {
   "cell_type": "code",
   "execution_count": 17,
   "metadata": {},
   "outputs": [
    {
     "data": {
      "image/png": "[encoded data removed]",
      "text/plain": [
       "<matplotlib.figure.Figure at 0x10d0869e8>"
      ]
     },
     "metadata": {},
     "output_type": "display_data"
    }
   ],
   "source": [
    "# Visualize the results with an ROC curve\n",
    "ml.visualize(y_val, preds)"
   ]
  },
  {
   "cell_type": "markdown",
   "metadata": {},
   "source": [
    "The AUC is also the same as it was before. \n",
    "\n",
    "So, in all- the RFE method did not offer much improvement over our base model. Although, we did have fewer misclassified examples: this can be extremely important in the real world. Especially when the object of experimentation is to enhance subscriptions. Misclassified examples represent lost earnings for the bank. "
   ]
  },
  {
   "cell_type": "markdown",
   "metadata": {},
   "source": [
    "### Principal Component Analysis (PCA)\n",
    "\n",
    "PCA has a large number of varying applications in data science. It can be used to optimize algorithms and enhance the speed of performance. Furthermore, it has uses in terms of creating visualizations for data. \n",
    "\n",
    "In our situation, we are going to try and use this method to improve our model's accuracy. PCA could potentially achieve this goal because what it does is transform the original dataset into a new, linear combination of the existing features. The goal is to reduce the amount of total variance present in the data. This concern addresses issues that can confound our results such as multi-colinearity. These issues usually arise when there is a lot of correlation between variables. \n",
    "\n",
    "In any case, lets get to it."
   ]
  },
  {
   "cell_type": "code",
   "execution_count": 18,
   "metadata": {},
   "outputs": [],
   "source": [
    "# Resplit the data\n",
    "x_train, x_val, x_test, y_train, y_val, y_test = ml.separate(data, 'y', .3)"
   ]
  },
  {
   "cell_type": "code",
   "execution_count": 19,
   "metadata": {},
   "outputs": [],
   "source": [
    "# Initialize the model\n",
    "pca = PCA(.95)\n",
    "\n",
    "fit = pca.fit(x_train)"
   ]
  },
  {
   "cell_type": "markdown",
   "metadata": {},
   "source": [
    "Before we go any further, lets see how many components the PCA ended up creating:"
   ]
  },
  {
   "cell_type": "code",
   "execution_count": 20,
   "metadata": {},
   "outputs": [
    {
     "name": "stdout",
     "output_type": "stream",
     "text": [
      "The PCA model chose 2 components \n",
      "\n"
     ]
    }
   ],
   "source": [
    "# Find the number of selected transformations\n",
    "print('The PCA model chose', pca.n_components_, 'components', '\\n')"
   ]
  },
  {
   "cell_type": "code",
   "execution_count": 21,
   "metadata": {},
   "outputs": [],
   "source": [
    "# Apply the transformations to the data\n",
    "x_train = pca.transform(x_train)\n",
    "x_val = pca.transform(x_val)"
   ]
  },
  {
   "cell_type": "code",
   "execution_count": 22,
   "metadata": {},
   "outputs": [],
   "source": [
    "# Run the logistic regression again\n",
    "preds, conf_mat, class_rep, acc = ml.machine_learning(lib, x_train, y_train, x_val, y_val, func)"
   ]
  },
  {
   "cell_type": "code",
   "execution_count": 23,
   "metadata": {},
   "outputs": [
    {
     "name": "stdout",
     "output_type": "stream",
     "text": [
      "Confusion Matrix for the Logistic Regression Model \n",
      " [[5399  122]\n",
      " [ 436  221]] \n",
      "\n"
     ]
    }
   ],
   "source": [
    "# Check the results\n",
    "print('Confusion Matrix for the Logistic Regression Model', '\\n', conf_mat, '\\n')"
   ]
  },
  {
   "cell_type": "code",
   "execution_count": 24,
   "metadata": {},
   "outputs": [
    {
     "name": "stdout",
     "output_type": "stream",
     "text": [
      "Accuracy for the Logistic Regression Model 0.9096795079313694 \n",
      "\n"
     ]
    }
   ],
   "source": [
    "print('Accuracy for the Logistic Regression Model', acc, '\\n')"
   ]
  },
  {
   "cell_type": "code",
   "execution_count": 25,
   "metadata": {},
   "outputs": [
    {
     "name": "stdout",
     "output_type": "stream",
     "text": [
      "Summary statistics for Logistic Regression Model \n",
      "              precision    recall  f1-score   support\n",
      "\n",
      "          0       0.93      0.98      0.95      5521\n",
      "          1       0.64      0.34      0.44       657\n",
      "\n",
      "avg / total       0.90      0.91      0.90      6178\n",
      " \n",
      "\n"
     ]
    }
   ],
   "source": [
    "print('Summary statistics for Logistic Regression Model', '\\n', class_rep, '\\n')"
   ]
  },
  {
   "cell_type": "code",
   "execution_count": 26,
   "metadata": {},
   "outputs": [
    {
     "data": {
      "image/png": "[encoded data removed]",
      "text/plain": [
       "<matplotlib.figure.Figure at 0x1138d49b0>"
      ]
     },
     "metadata": {},
     "output_type": "display_data"
    }
   ],
   "source": [
    "# Visualize the results with an ROC curve\n",
    "ml.visualize(y_val, preds)"
   ]
  },
  {
   "cell_type": "markdown",
   "metadata": {},
   "source": [
    "### Conclusion\n",
    "\n",
    "Well, in this situation: the results of the PCA were a little disappointing. The model was not an improvement upon our initial attempt in terms of either accuracy or the AUC for the ROC. \n",
    "\n",
    "This can happen: it does not detract from the importance of at least attempting these types of methods. It just goes to show, there is no cookie-cutter method or sure-fire procedure for improving results. This is why the field is called data *science*. We must constantly develop and test new, different hypotheses in order to develop our skills and improve.\n",
    "\n",
    "Thats all folks, until next time."
   ]
  }
 ],
 "metadata": {
  "kernelspec": {
   "display_name": "Python 3",
   "language": "python",
   "name": "python3"
  },
  "language_info": {
   "codemirror_mode": {
    "name": "ipython",
    "version": 3
   },
   "file_extension": ".py",
   "mimetype": "text/x-python",
   "name": "python",
   "nbconvert_exporter": "python",
   "pygments_lexer": "ipython3",
   "version": "3.6.4"
  }
 },
 "nbformat": 4,
 "nbformat_minor": 2
}
