{
 "cells": [
  {
   "cell_type": "markdown",
   "metadata": {},
   "source": [
    "# Thinkful Data Science Event:\n",
    "## Unsupervised Learning- Customer Segmentation\n",
    "\n",
    "Lately, we have been working on the dataset provided by a Portugese banking institution that was uploaded to the UCI Machine Learning Repository. In order to revisit this topic, feel free to go back over the previous [topics](https://github.com/zxs107020/Thinkful).\n",
    "\n",
    "In this workshop, we will take our analysis a few steps furthers. We are going to delve into the topic of unsupervised learning. Basically, this is a component of data science in which we are not trying to classify things. Our analysis will instead focus on spotting trends and relationships within the data that are not easily captured by class labels. \n",
    "\n",
    "This component of data science has numerous applications. For example, in our dataset- we will use clustering techniques to identify unique groups of customers. This information could then be used to carry out targeted marketing campaigns for each of segment, with the goal of increasing our overall conversion rate for \"term deposits\".\n",
    "\n",
    "## Getting Started-"
   ]
  },
  {
   "cell_type": "markdown",
   "metadata": {},
   "source": [
    "As usual, we will begin by importing our data and transforming its contents into a format that we can use for the purpose of analysis. \n",
    "\n",
    "To do this, we will rely on the `ml` package that I have created. If you haven't already done so- be sure to download the script and copy it into your working directory so that you can utilize the functions as you follow along. "
   ]
  },
  {
   "cell_type": "code",
   "execution_count": 1,
   "metadata": {},
   "outputs": [],
   "source": [
    "# Import the required libraries\n",
    "import ml\n",
    "from sklearn.preprocessing import LabelEncoder\n",
    "import pandas as pd\n",
    "import seaborn as sns\n",
    "from sklearn.preprocessing import StandardScaler\n",
    "import numpy as np\n",
    "import matplotlib.pyplot as plt"
   ]
  },
  {
   "cell_type": "code",
   "execution_count": 2,
   "metadata": {},
   "outputs": [],
   "source": [
    "# Define the parameters\n",
    "wd = '/path/to/files'\n",
    "url = 'https://archive.ics.uci.edu/ml/machine-learning-databases/00222/bank-additional.zip'\n",
    "fn = 'bank-additional.zip'\n",
    "path = 'staging/bank-additional'\n",
    "header = 0\n",
    "sep = ';'\n",
    "target = 'bank-additional-full'"
   ]
  },
  {
   "cell_type": "code",
   "execution_count": 3,
   "metadata": {},
   "outputs": [],
   "source": [
    "# Load the data\n",
    "data = ml.dat_imp(wd, url, fn, path, header, sep, target)"
   ]
  },
  {
   "cell_type": "code",
   "execution_count": 4,
   "metadata": {},
   "outputs": [],
   "source": [
    "# Select object columns\n",
    "cols = data.columns[data.dtypes.eq('object')]"
   ]
  },
  {
   "cell_type": "code",
   "execution_count": 5,
   "metadata": {},
   "outputs": [],
   "source": [
    "# Convert to categories\n",
    "for col in cols:\n",
    "    data[col] = data[col].astype('category')"
   ]
  },
  {
   "cell_type": "code",
   "execution_count": 6,
   "metadata": {},
   "outputs": [],
   "source": [
    "# Initialize label encoder\n",
    "le = LabelEncoder()\n",
    "\n",
    "# Encode categories numerically\n",
    "for col in cols:\n",
    "    data[col] = le.fit_transform(data[col])"
   ]
  },
  {
   "cell_type": "markdown",
   "metadata": {},
   "source": [
    "### Visualization:"
   ]
  },
  {
   "cell_type": "code",
   "execution_count": 7,
   "metadata": {},
   "outputs": [
    {
     "data": {
      "text/plain": [
       "<seaborn.axisgrid.PairGrid at 0x10fe33588>"
      ]
     },
     "execution_count": 7,
     "metadata": {},
     "output_type": "execute_result"
    },
    {
     "data": {
      "image/png": "[encoded data removed]",
      "text/plain": [
       "<matplotlib.figure.Figure at 0x10de9c1d0>"
      ]
     },
     "metadata": {},
     "output_type": "display_data"
    }
   ],
   "source": [
    "# Plot\n",
    "sns.pairplot(x_vars = ['age'], y_vars = ['duration'], data = data, hue = 'y')"
   ]
  },
  {
   "cell_type": "markdown",
   "metadata": {},
   "source": [
    "An important part of working through any given dataset is visualizing its content to create an image representation and also to help tell the story. Unfortunately in this case, the data is not that insightful because there are not strong relationships between the variables. Thats OK though, remember- this is actually the reason why we decided to use a Logistic Regression in our previous workshop. \n",
    "\n",
    "In any case, lets get to the fun stuff."
   ]
  },
  {
   "cell_type": "markdown",
   "metadata": {},
   "source": [
    "## Machine Learning-"
   ]
  },
  {
   "cell_type": "code",
   "execution_count": 8,
   "metadata": {},
   "outputs": [
    {
     "name": "stderr",
     "output_type": "stream",
     "text": [
      "/anaconda3/lib/python3.6/site-packages/sklearn/cross_validation.py:41: DeprecationWarning: This module was deprecated in version 0.18 in favor of the model_selection module into which all the refactored classes and functions are moved. Also note that the interface of the new CV iterators are different from that of this module. This module will be removed in 0.20.\n",
      "  \"This module will be removed in 0.20.\", DeprecationWarning)\n"
     ]
    }
   ],
   "source": [
    "# Split the data into training, validation, and testing sets using `ml`\n",
    "x_train, x_val, x_test, y_train, y_val, y_test = ml.separate(data, 'y', .3)"
   ]
  },
  {
   "cell_type": "code",
   "execution_count": 9,
   "metadata": {},
   "outputs": [
    {
     "data": {
      "text/plain": [
       "StandardScaler(copy=True, with_mean=True, with_std=True)"
      ]
     },
     "execution_count": 9,
     "metadata": {},
     "output_type": "execute_result"
    }
   ],
   "source": [
    "# Initialize the scaler\n",
    "s = StandardScaler()\n",
    "s.fit(x_train)"
   ]
  },
  {
   "cell_type": "code",
   "execution_count": 10,
   "metadata": {},
   "outputs": [],
   "source": [
    "# Transform the data\n",
    "x_train_scaled = s.transform(x_train)\n",
    "x_val_scaled = s.transform(x_val)\n",
    "x_test_scaled = s.transform(x_test)"
   ]
  },
  {
   "cell_type": "markdown",
   "metadata": {},
   "source": [
    "The last few steps in lines 9 & 10 are particularly important to take note of. \n",
    "\n",
    "Some algorithms, such as the ones we will be using today, need to be pre-processed through scaling in order to truly capture the information."
   ]
  },
  {
   "cell_type": "markdown",
   "metadata": {},
   "source": [
    "#### KNN:\n",
    "\n",
    "The first thing we are going to do now is KNN. This stands for K-Nearest Neighbors. KNN is an algorithm that can be used for classification and regression. The premise is that the \"distance\" between data points can be calculated. This calculation can take many forms. For example, one of the most common measures is \"Euclidean distance\" which is an algebraic method. \n",
    "\n",
    "The KNN algorithm computes the distances between points and then creates clusters. For each cluster, all of the points contained within are closer to the center than they are to the center of any other cluster. One drawback of this method though is the fact that the number of centers must be defined in advance by the user. \n",
    "\n",
    "Intuitively, it would seem like we could use 2 for the number of clusters because this is the number of categories we have in our target variable. However, that is not always the case. To be sure, we will setup a mechanism to iterate through different values of N and record the error rates. This way, we can be sure that we have chosen the right number of clusters."
   ]
  },
  {
   "cell_type": "code",
   "execution_count": 12,
   "metadata": {},
   "outputs": [],
   "source": [
    "# Define the library\n",
    "lib = 'from sklearn.neighbors import KNeighborsClassifier'"
   ]
  },
  {
   "cell_type": "code",
   "execution_count": 13,
   "metadata": {},
   "outputs": [],
   "source": [
    "# Initialize a list to store results\n",
    "error = []"
   ]
  },
  {
   "cell_type": "code",
   "execution_count": 14,
   "metadata": {},
   "outputs": [],
   "source": [
    "# Iterate through the K values\n",
    "for i in range(1, 10):\n",
    "    string = ''.join(['KNeighborsClassifier(n_neighbors =', str(i), ')'])\n",
    "    \n",
    "    preds_i, conf_mat, class_rep, acc = ml.machine_learning(lib, x_train_scaled, y_train, x_val_scaled, y_val, string)\n",
    "    \n",
    "    error.append(np.mean(preds_i != y_val))"
   ]
  },
  {
   "cell_type": "markdown",
   "metadata": {},
   "source": [
    "Now, lets take a look at our error rates to determine the optimal number of clusters:"
   ]
  },
  {
   "cell_type": "code",
   "execution_count": 15,
   "metadata": {},
   "outputs": [
    {
     "data": {
      "text/plain": [
       "Text(0,0.5,'Error')"
      ]
     },
     "execution_count": 15,
     "metadata": {},
     "output_type": "execute_result"
    },
    {
     "data": {
      "image/png": "[encoded data removed]",
      "text/plain": [
       "<matplotlib.figure.Figure at 0x1a10b98240>"
      ]
     },
     "metadata": {},
     "output_type": "display_data"
    }
   ],
   "source": [
    "# Plot the errors\n",
    "plt.plot(range(1, 10), error, color = 'blue', marker = 'o', markerfacecolor = 'blue')\n",
    "plt.title('Error Rate for Different Values of K')\n",
    "plt.xlabel('N')\n",
    "plt.ylabel('Error')"
   ]
  },
  {
   "cell_type": "markdown",
   "metadata": {},
   "source": [
    "From this, it is very obvious that the ideal number of clusters is 8. Essentially, what this means is: our banking customers can classified into 8 different categories which help define them as subscribers of the \"term deposit\". \n",
    "\n",
    "However, this method still falls under the banner of supervised learning. In the end, we have still created these eight different groups in order to help predict a value of 0 or 1 for `y` (our target variable). \n",
    "\n",
    "Using this information though, we can delve further into the realm of unsupervised learning. This will involve using our next algorithm.\n",
    "\n",
    "#### K-Means:\n",
    "\n",
    "The underlying concept behind this methodology is the same as the theory behind KNN. We use a distance metric and a predefined number of clusters in order to label groups of data. The only difference is that this information is not being used to predict anything. It is more of an illustrative procedure. However, there is useful information that results from this process. For example, we can label customers with group assignments and then use this information to conduct a targeted marketing campaign encouraging more customers to sign-up for \"term deposits\"."
   ]
  },
  {
   "cell_type": "code",
   "execution_count": 16,
   "metadata": {},
   "outputs": [],
   "source": [
    "# K-Means\n",
    "from sklearn.cluster import KMeans\n",
    "kmeans = KMeans(n_clusters = 8)"
   ]
  },
  {
   "cell_type": "code",
   "execution_count": 17,
   "metadata": {},
   "outputs": [
    {
     "data": {
      "text/plain": [
       "StandardScaler(copy=True, with_mean=True, with_std=True)"
      ]
     },
     "execution_count": 17,
     "metadata": {},
     "output_type": "execute_result"
    }
   ],
   "source": [
    "# Re-scale the entire dataset\n",
    "s.fit(data.loc[:, data.columns != 'y'])"
   ]
  },
  {
   "cell_type": "code",
   "execution_count": 18,
   "metadata": {},
   "outputs": [],
   "source": [
    "# Transform\n",
    "data_scaled = s.transform(data.loc[:, data.columns != 'y'])"
   ]
  },
  {
   "cell_type": "code",
   "execution_count": 19,
   "metadata": {},
   "outputs": [],
   "source": [
    "# Run the algorithm\n",
    "kmeans = kmeans.fit(data_scaled)"
   ]
  },
  {
   "cell_type": "markdown",
   "metadata": {},
   "source": [
    "Now that we have run the K-Means algorithm. We can label our customers with its output. This will simply indicate group membership which we can later use to formulate targeted strategies."
   ]
  },
  {
   "cell_type": "code",
   "execution_count": 20,
   "metadata": {},
   "outputs": [],
   "source": [
    "# Grab the labels\n",
    "clusters = kmeans.predict(data_scaled)"
   ]
  },
  {
   "cell_type": "code",
   "execution_count": 21,
   "metadata": {},
   "outputs": [],
   "source": [
    "# Assign values\n",
    "data['cluster'] = clusters"
   ]
  },
  {
   "cell_type": "code",
   "execution_count": 22,
   "metadata": {},
   "outputs": [
    {
     "data": {
      "text/plain": [
       "<seaborn.axisgrid.PairGrid at 0x1a1d309828>"
      ]
     },
     "execution_count": 22,
     "metadata": {},
     "output_type": "execute_result"
    },
    {
     "data": {
      "image/png": "[encoded data removed]",
      "text/plain": [
       "<matplotlib.figure.Figure at 0x1a1d309860>"
      ]
     },
     "metadata": {},
     "output_type": "display_data"
    }
   ],
   "source": [
    "# Visualize\n",
    "sns.pairplot(x_vars = ['age'], y_vars = ['duration'], data = pd.DataFrame(data), hue = 'cluster')"
   ]
  },
  {
   "cell_type": "code",
   "execution_count": 23,
   "metadata": {},
   "outputs": [
    {
     "data": {
      "text/plain": [
       "cluster\n",
       "0    1025\n",
       "1    8601\n",
       "2    6019\n",
       "3    4109\n",
       "4    6292\n",
       "5    1514\n",
       "6    4604\n",
       "7    9024\n",
       "Name: y, dtype: int64"
      ]
     },
     "execution_count": 23,
     "metadata": {},
     "output_type": "execute_result"
    }
   ],
   "source": [
    "# Summarize term deposits by cluster\n",
    "data.groupby('cluster')['y'].count()"
   ]
  },
  {
   "cell_type": "code",
   "execution_count": 26,
   "metadata": {},
   "outputs": [
    {
     "data": {
      "text/html": [
       "<div>\n",
       "<style scoped>\n",
       "    .dataframe tbody tr th:only-of-type {\n",
       "        vertical-align: middle;\n",
       "    }\n",
       "\n",
       "    .dataframe tbody tr th {\n",
       "        vertical-align: top;\n",
       "    }\n",
       "\n",
       "    .dataframe thead tr th {\n",
       "        text-align: left;\n",
       "    }\n",
       "\n",
       "    .dataframe thead tr:last-of-type th {\n",
       "        text-align: right;\n",
       "    }\n",
       "</style>\n",
       "<table border=\"1\" class=\"dataframe\">\n",
       "  <thead>\n",
       "    <tr>\n",
       "      <th></th>\n",
       "      <th colspan=\"8\" halign=\"left\">age</th>\n",
       "      <th colspan=\"2\" halign=\"left\">job</th>\n",
       "      <th>...</th>\n",
       "      <th colspan=\"2\" halign=\"left\">loan</th>\n",
       "      <th colspan=\"8\" halign=\"left\">duration</th>\n",
       "    </tr>\n",
       "    <tr>\n",
       "      <th></th>\n",
       "      <th>count</th>\n",
       "      <th>mean</th>\n",
       "      <th>std</th>\n",
       "      <th>min</th>\n",
       "      <th>25%</th>\n",
       "      <th>50%</th>\n",
       "      <th>75%</th>\n",
       "      <th>max</th>\n",
       "      <th>count</th>\n",
       "      <th>mean</th>\n",
       "      <th>...</th>\n",
       "      <th>75%</th>\n",
       "      <th>max</th>\n",
       "      <th>count</th>\n",
       "      <th>mean</th>\n",
       "      <th>std</th>\n",
       "      <th>min</th>\n",
       "      <th>25%</th>\n",
       "      <th>50%</th>\n",
       "      <th>75%</th>\n",
       "      <th>max</th>\n",
       "    </tr>\n",
       "    <tr>\n",
       "      <th>cluster</th>\n",
       "      <th></th>\n",
       "      <th></th>\n",
       "      <th></th>\n",
       "      <th></th>\n",
       "      <th></th>\n",
       "      <th></th>\n",
       "      <th></th>\n",
       "      <th></th>\n",
       "      <th></th>\n",
       "      <th></th>\n",
       "      <th></th>\n",
       "      <th></th>\n",
       "      <th></th>\n",
       "      <th></th>\n",
       "      <th></th>\n",
       "      <th></th>\n",
       "      <th></th>\n",
       "      <th></th>\n",
       "      <th></th>\n",
       "      <th></th>\n",
       "      <th></th>\n",
       "    </tr>\n",
       "  </thead>\n",
       "  <tbody>\n",
       "    <tr>\n",
       "      <th>0</th>\n",
       "      <td>1025.0</td>\n",
       "      <td>40.615610</td>\n",
       "      <td>9.557727</td>\n",
       "      <td>20.0</td>\n",
       "      <td>33.0</td>\n",
       "      <td>39.0</td>\n",
       "      <td>48.0</td>\n",
       "      <td>72.0</td>\n",
       "      <td>1025.0</td>\n",
       "      <td>3.448780</td>\n",
       "      <td>...</td>\n",
       "      <td>0.0</td>\n",
       "      <td>2.0</td>\n",
       "      <td>1025.0</td>\n",
       "      <td>157.335610</td>\n",
       "      <td>221.934377</td>\n",
       "      <td>4.0</td>\n",
       "      <td>22.0</td>\n",
       "      <td>74.0</td>\n",
       "      <td>188.00</td>\n",
       "      <td>1608.0</td>\n",
       "    </tr>\n",
       "    <tr>\n",
       "      <th>1</th>\n",
       "      <td>8601.0</td>\n",
       "      <td>39.275666</td>\n",
       "      <td>12.209563</td>\n",
       "      <td>18.0</td>\n",
       "      <td>31.0</td>\n",
       "      <td>36.0</td>\n",
       "      <td>45.0</td>\n",
       "      <td>98.0</td>\n",
       "      <td>8601.0</td>\n",
       "      <td>3.692710</td>\n",
       "      <td>...</td>\n",
       "      <td>0.0</td>\n",
       "      <td>2.0</td>\n",
       "      <td>8601.0</td>\n",
       "      <td>268.543425</td>\n",
       "      <td>259.136239</td>\n",
       "      <td>0.0</td>\n",
       "      <td>108.0</td>\n",
       "      <td>195.0</td>\n",
       "      <td>341.00</td>\n",
       "      <td>3785.0</td>\n",
       "    </tr>\n",
       "    <tr>\n",
       "      <th>2</th>\n",
       "      <td>6019.0</td>\n",
       "      <td>43.737830</td>\n",
       "      <td>9.014134</td>\n",
       "      <td>19.0</td>\n",
       "      <td>37.0</td>\n",
       "      <td>44.0</td>\n",
       "      <td>51.0</td>\n",
       "      <td>73.0</td>\n",
       "      <td>6019.0</td>\n",
       "      <td>3.401063</td>\n",
       "      <td>...</td>\n",
       "      <td>0.0</td>\n",
       "      <td>2.0</td>\n",
       "      <td>6019.0</td>\n",
       "      <td>257.107991</td>\n",
       "      <td>252.742416</td>\n",
       "      <td>5.0</td>\n",
       "      <td>103.0</td>\n",
       "      <td>180.0</td>\n",
       "      <td>318.00</td>\n",
       "      <td>3366.0</td>\n",
       "    </tr>\n",
       "    <tr>\n",
       "      <th>3</th>\n",
       "      <td>4109.0</td>\n",
       "      <td>39.929180</td>\n",
       "      <td>11.441954</td>\n",
       "      <td>17.0</td>\n",
       "      <td>32.0</td>\n",
       "      <td>37.0</td>\n",
       "      <td>46.0</td>\n",
       "      <td>94.0</td>\n",
       "      <td>4109.0</td>\n",
       "      <td>3.711852</td>\n",
       "      <td>...</td>\n",
       "      <td>0.0</td>\n",
       "      <td>2.0</td>\n",
       "      <td>4109.0</td>\n",
       "      <td>245.440496</td>\n",
       "      <td>230.319855</td>\n",
       "      <td>1.0</td>\n",
       "      <td>103.0</td>\n",
       "      <td>178.0</td>\n",
       "      <td>304.00</td>\n",
       "      <td>2219.0</td>\n",
       "    </tr>\n",
       "    <tr>\n",
       "      <th>4</th>\n",
       "      <td>6292.0</td>\n",
       "      <td>38.262238</td>\n",
       "      <td>9.222943</td>\n",
       "      <td>20.0</td>\n",
       "      <td>31.0</td>\n",
       "      <td>36.0</td>\n",
       "      <td>45.0</td>\n",
       "      <td>60.0</td>\n",
       "      <td>6292.0</td>\n",
       "      <td>3.655912</td>\n",
       "      <td>...</td>\n",
       "      <td>0.0</td>\n",
       "      <td>2.0</td>\n",
       "      <td>6292.0</td>\n",
       "      <td>280.399555</td>\n",
       "      <td>292.858383</td>\n",
       "      <td>5.0</td>\n",
       "      <td>103.0</td>\n",
       "      <td>182.0</td>\n",
       "      <td>344.25</td>\n",
       "      <td>4918.0</td>\n",
       "    </tr>\n",
       "    <tr>\n",
       "      <th>5</th>\n",
       "      <td>1514.0</td>\n",
       "      <td>41.860634</td>\n",
       "      <td>15.298130</td>\n",
       "      <td>17.0</td>\n",
       "      <td>30.0</td>\n",
       "      <td>37.0</td>\n",
       "      <td>52.0</td>\n",
       "      <td>98.0</td>\n",
       "      <td>1514.0</td>\n",
       "      <td>4.245707</td>\n",
       "      <td>...</td>\n",
       "      <td>0.0</td>\n",
       "      <td>2.0</td>\n",
       "      <td>1514.0</td>\n",
       "      <td>321.521136</td>\n",
       "      <td>254.756564</td>\n",
       "      <td>1.0</td>\n",
       "      <td>165.0</td>\n",
       "      <td>253.0</td>\n",
       "      <td>392.00</td>\n",
       "      <td>3509.0</td>\n",
       "    </tr>\n",
       "    <tr>\n",
       "      <th>6</th>\n",
       "      <td>4604.0</td>\n",
       "      <td>40.509340</td>\n",
       "      <td>8.853217</td>\n",
       "      <td>23.0</td>\n",
       "      <td>33.0</td>\n",
       "      <td>38.0</td>\n",
       "      <td>48.0</td>\n",
       "      <td>60.0</td>\n",
       "      <td>4604.0</td>\n",
       "      <td>4.501738</td>\n",
       "      <td>...</td>\n",
       "      <td>0.0</td>\n",
       "      <td>2.0</td>\n",
       "      <td>4604.0</td>\n",
       "      <td>228.711338</td>\n",
       "      <td>235.247088</td>\n",
       "      <td>0.0</td>\n",
       "      <td>95.0</td>\n",
       "      <td>151.0</td>\n",
       "      <td>262.25</td>\n",
       "      <td>2372.0</td>\n",
       "    </tr>\n",
       "    <tr>\n",
       "      <th>7</th>\n",
       "      <td>9024.0</td>\n",
       "      <td>38.909020</td>\n",
       "      <td>8.779329</td>\n",
       "      <td>18.0</td>\n",
       "      <td>32.0</td>\n",
       "      <td>37.0</td>\n",
       "      <td>45.0</td>\n",
       "      <td>61.0</td>\n",
       "      <td>9024.0</td>\n",
       "      <td>3.571809</td>\n",
       "      <td>...</td>\n",
       "      <td>0.0</td>\n",
       "      <td>2.0</td>\n",
       "      <td>9024.0</td>\n",
       "      <td>255.667110</td>\n",
       "      <td>262.302052</td>\n",
       "      <td>0.0</td>\n",
       "      <td>106.0</td>\n",
       "      <td>181.0</td>\n",
       "      <td>311.00</td>\n",
       "      <td>4199.0</td>\n",
       "    </tr>\n",
       "  </tbody>\n",
       "</table>\n",
       "<p>8 rows × 32 columns</p>\n",
       "</div>"
      ],
      "text/plain": [
       "            age                                                         job  \\\n",
       "          count       mean        std   min   25%   50%   75%   max   count   \n",
       "cluster                                                                       \n",
       "0        1025.0  40.615610   9.557727  20.0  33.0  39.0  48.0  72.0  1025.0   \n",
       "1        8601.0  39.275666  12.209563  18.0  31.0  36.0  45.0  98.0  8601.0   \n",
       "2        6019.0  43.737830   9.014134  19.0  37.0  44.0  51.0  73.0  6019.0   \n",
       "3        4109.0  39.929180  11.441954  17.0  32.0  37.0  46.0  94.0  4109.0   \n",
       "4        6292.0  38.262238   9.222943  20.0  31.0  36.0  45.0  60.0  6292.0   \n",
       "5        1514.0  41.860634  15.298130  17.0  30.0  37.0  52.0  98.0  1514.0   \n",
       "6        4604.0  40.509340   8.853217  23.0  33.0  38.0  48.0  60.0  4604.0   \n",
       "7        9024.0  38.909020   8.779329  18.0  32.0  37.0  45.0  61.0  9024.0   \n",
       "\n",
       "                    ...   loan      duration                               \\\n",
       "             mean   ...    75%  max    count        mean         std  min   \n",
       "cluster             ...                                                     \n",
       "0        3.448780   ...    0.0  2.0   1025.0  157.335610  221.934377  4.0   \n",
       "1        3.692710   ...    0.0  2.0   8601.0  268.543425  259.136239  0.0   \n",
       "2        3.401063   ...    0.0  2.0   6019.0  257.107991  252.742416  5.0   \n",
       "3        3.711852   ...    0.0  2.0   4109.0  245.440496  230.319855  1.0   \n",
       "4        3.655912   ...    0.0  2.0   6292.0  280.399555  292.858383  5.0   \n",
       "5        4.245707   ...    0.0  2.0   1514.0  321.521136  254.756564  1.0   \n",
       "6        4.501738   ...    0.0  2.0   4604.0  228.711338  235.247088  0.0   \n",
       "7        3.571809   ...    0.0  2.0   9024.0  255.667110  262.302052  0.0   \n",
       "\n",
       "                                       \n",
       "           25%    50%     75%     max  \n",
       "cluster                                \n",
       "0         22.0   74.0  188.00  1608.0  \n",
       "1        108.0  195.0  341.00  3785.0  \n",
       "2        103.0  180.0  318.00  3366.0  \n",
       "3        103.0  178.0  304.00  2219.0  \n",
       "4        103.0  182.0  344.25  4918.0  \n",
       "5        165.0  253.0  392.00  3509.0  \n",
       "6         95.0  151.0  262.25  2372.0  \n",
       "7        106.0  181.0  311.00  4199.0  \n",
       "\n",
       "[8 rows x 32 columns]"
      ]
     },
     "execution_count": 26,
     "metadata": {},
     "output_type": "execute_result"
    }
   ],
   "source": [
    "data.groupby('cluster')['age', 'job', 'loan', 'duration'].describe()\n"
   ]
  },
  {
   "cell_type": "markdown",
   "metadata": {},
   "source": [
    "## Conclusion-\n",
    "\n",
    "The dataset that we are using contains 20 different columns that are a combination of categorical and numeric variables. We could spend an infinite amount of time describing this information. Indeed, this task is actually relegated to an entirely different field of Business commonly referred to as \"Data Analytics\". \n",
    "\n",
    "The point is that, with the help of clustering algorithms and unsupervised learning techniques: we are able to gain unique insights into our data. We can use these techniques to take our analysis and understanding of the subject a step further than usual by identifying and extracting unseen correlations. Would you have guessed that the ideal number of clusters to predict `yes` is actually eight?!? \n",
    "\n",
    "Feel free to further investigate this dataset in your free time. What other unique insights do you think you can develop? How would these insights be applied to effect real business outcomes? \n",
    "\n",
    "The possibilities are endless."
   ]
  }
 ],
 "metadata": {
  "kernelspec": {
   "display_name": "Python 3",
   "language": "python",
   "name": "python3"
  },
  "language_info": {
   "codemirror_mode": {
    "name": "ipython",
    "version": 3
   },
   "file_extension": ".py",
   "mimetype": "text/x-python",
   "name": "python",
   "nbconvert_exporter": "python",
   "pygments_lexer": "ipython3",
   "version": "3.6.4"
  }
 },
 "nbformat": 4,
 "nbformat_minor": 2
}
